{
  "nbformat": 4,
  "nbformat_minor": 0,
  "metadata": {
    "colab": {
      "provenance": [],
      "include_colab_link": true
    },
    "kernelspec": {
      "name": "python3",
      "display_name": "Python 3"
    }
  },
  "cells": [
    {
      "cell_type": "markdown",
      "metadata": {
        "id": "view-in-github",
        "colab_type": "text"
      },
      "source": [
        "<a href=\"https://colab.research.google.com/github/Cart1233/PHYS250/blob/main/Carter_McIntosh_Lab01_review_of_notebook_and_python_basics.ipynb\" target=\"_parent\"><img src=\"https://colab.research.google.com/assets/colab-badge.svg\" alt=\"Open In Colab\"/></a>"
      ]
    },
    {
      "cell_type": "markdown",
      "metadata": {
        "id": "36eTMfu05klo"
      },
      "source": [
        "# Lab 1: Python Review\n",
        "\n",
        "The goal of this notebook is to help you review some of the basics of python.\n",
        "\n",
        "Specifically, you will review\n",
        "\n",
        "* python syntax\n",
        "* markdown\n",
        "* formatted printing\n",
        "* loops\n",
        "* conditionals\n",
        "* functions\n",
        "* basic plotting\n",
        "\n"
      ]
    },
    {
      "cell_type": "markdown",
      "source": [
        "\n",
        "# Fixer-upper\n",
        "\n",
        "Fix the code in the cells below...it's all broken!\n",
        "\n",
        "(1 point each)"
      ],
      "metadata": {
        "id": "ho0V0oXimSW9"
      }
    },
    {
      "cell_type": "code",
      "metadata": {
        "id": "7xWQl5iV5ZlR",
        "colab": {
          "base_uri": "https://localhost:8080/"
        },
        "outputId": "24f6a665-2c24-471f-9660-1e88ffc45908"
      },
      "source": [
        "myage = 19 # Or fill in your age here\n",
        "\n",
        "print(f\"My age is {myage}\".format(myage))\n"
      ],
      "execution_count": 1,
      "outputs": [
        {
          "output_type": "stream",
          "name": "stdout",
          "text": [
            "My age is 19\n"
          ]
        }
      ]
    },
    {
      "cell_type": "code",
      "metadata": {
        "id": "_uqX-8oa50fF",
        "colab": {
          "base_uri": "https://localhost:8080/"
        },
        "outputId": "d6409f05-9700-46a0-b36b-d93312335d22"
      },
      "source": [
        "song = \"Believer\"\n",
        "artist = \"Imagine Dragons\"\n",
        "\n",
        "print(f\"{song} is sung by \\n\\t {artist}\")"
      ],
      "execution_count": 2,
      "outputs": [
        {
          "output_type": "stream",
          "name": "stdout",
          "text": [
            "Believer is sung by \n",
            "\t Imagine Dragons\n"
          ]
        }
      ]
    },
    {
      "cell_type": "code",
      "metadata": {
        "id": "YdQv3Fxw5_wh",
        "colab": {
          "base_uri": "https://localhost:8080/"
        },
        "outputId": "b00ee2d0-086a-4a7d-8126-8f65abd551d5"
      },
      "source": [
        "from math import factorial\n",
        "\n",
        "factorial(4)"
      ],
      "execution_count": 3,
      "outputs": [
        {
          "output_type": "execute_result",
          "data": {
            "text/plain": [
              "24"
            ]
          },
          "metadata": {},
          "execution_count": 3
        }
      ]
    },
    {
      "cell_type": "code",
      "metadata": {
        "id": "XMy2PU_u6Dpm",
        "colab": {
          "base_uri": "https://localhost:8080/"
        },
        "outputId": "4d1ee829-79ab-4488-8c18-3b1a53d8f9b7"
      },
      "source": [
        "from math import pi,cos\n",
        "angle = pi/4.0\n",
        "print(cos(angle))"
      ],
      "execution_count": 4,
      "outputs": [
        {
          "output_type": "stream",
          "name": "stdout",
          "text": [
            "0.7071067811865476\n"
          ]
        }
      ]
    },
    {
      "cell_type": "markdown",
      "metadata": {
        "id": "NJdvPivG6VhP"
      },
      "source": [
        "After you fix the above cell, try restarting the kernel (**Runtime --> Restart runtime...**) and re-running the cell to make sure it works.\n"
      ]
    },
    {
      "cell_type": "markdown",
      "metadata": {
        "id": "M_oS7zjam4_g"
      },
      "source": [
        "# Markdown\n",
        "(1 point each)\n",
        "\n",
        "1. Write out some text in bold, italics, and both.\n",
        "\n",
        "1. Make a bullet list.\n",
        "\n",
        "1. Write out some (3 or more) kinematic equations from Gen Phys I using LaTeX. You can reference a more complete list of\n",
        "symbols [here](https://artofproblemsolving.com/wiki/index.php/LaTeX:Symbols)."
      ]
    },
    {
      "cell_type": "markdown",
      "source": [
        "**Hello my name is Carter**. ***I go to Siena College.*** *Where are you from?*\n",
        "\n",
        "\n",
        "\n",
        "*   Do Laundry\n",
        "*   Do Homework\n",
        "*   Brush Teeth\n",
        "*   Go to class\n",
        "\n",
        "$\\frac{1}{2}mv^2=KE$\n",
        "\n",
        "$v_f=v_i+at$\n",
        "\n",
        "$\\Delta x=v_ft-\\frac{1}{2}at^2$\n",
        "\n",
        "\n",
        "\n"
      ],
      "metadata": {
        "id": "VYJIVsU4ti0T"
      }
    },
    {
      "cell_type": "markdown",
      "source": [
        "# Formatted Printing\n",
        "(1 point each)\n",
        "\n",
        "* We can use formatted print statements to print out variables.\n",
        "* We will often want to print the results of a calculation, but we don't want to print out a million digits.  We can use formatted print statements to limit the precision of the numbers that we print.\n",
        "* See this link for more details https://docs.python.org/3/tutorial/inputoutput.html"
      ],
      "metadata": {
        "id": "z46N8yx4mJp1"
      }
    },
    {
      "cell_type": "code",
      "source": [
        "myratio = 10/3\n",
        "print(f\"My ratio is {myratio:.2}\")"
      ],
      "metadata": {
        "id": "jGUaqE_ZmIJh",
        "colab": {
          "base_uri": "https://localhost:8080/"
        },
        "outputId": "93563763-3e19-4502-aab9-954fa454e3ce"
      },
      "execution_count": 35,
      "outputs": [
        {
          "output_type": "stream",
          "name": "stdout",
          "text": [
            "My ratio is 3.3\n"
          ]
        }
      ]
    },
    {
      "cell_type": "code",
      "source": [
        "# formatted print statement, we can reference the variable in brackets {}\n",
        "print(f\"my ratio = {myratio}\")"
      ],
      "metadata": {
        "id": "Q6SV8R-MnGwN",
        "colab": {
          "base_uri": "https://localhost:8080/"
        },
        "outputId": "d49a6727-358b-414b-8b63-3f195e1ed7bb"
      },
      "execution_count": 36,
      "outputs": [
        {
          "output_type": "stream",
          "name": "stdout",
          "text": [
            "my ratio = 3.3333333333333335\n"
          ]
        }
      ]
    },
    {
      "cell_type": "code",
      "source": [
        "# we can limit the number of decimal places that it prints\n",
        "# in the statement below, I ask python to print the first two digits after the decimal point\n",
        "print(f\"my ratio = {myratio:.2f}\")"
      ],
      "metadata": {
        "id": "CDcv5LfsnRS9",
        "colab": {
          "base_uri": "https://localhost:8080/"
        },
        "outputId": "b5f6ae92-5657-45ea-b238-4d9fd82f2578"
      },
      "execution_count": 7,
      "outputs": [
        {
          "output_type": "stream",
          "name": "stdout",
          "text": [
            "my ratio = 3.33\n"
          ]
        }
      ]
    },
    {
      "cell_type": "code",
      "source": [
        "# print pi to 5 decimal places\n",
        "pi_ratio= pi\n",
        "print(f\"Pi= {pi_ratio:.6}\")"
      ],
      "metadata": {
        "id": "my59mzWznlK_",
        "colab": {
          "base_uri": "https://localhost:8080/"
        },
        "outputId": "80e3c852-cf7c-4bb2-c39f-76adfb496fdf"
      },
      "execution_count": 39,
      "outputs": [
        {
          "output_type": "stream",
          "name": "stdout",
          "text": [
            "Pi= 3.14159\n"
          ]
        }
      ]
    },
    {
      "cell_type": "markdown",
      "metadata": {
        "id": "3giruAXg1Es9"
      },
      "source": [
        "# Lists\n",
        "\n",
        "These exercises will allow you to test your understanding of Python lists.\n",
        "\n",
        "(1 point each)"
      ]
    },
    {
      "cell_type": "code",
      "metadata": {
        "id": "YZmDOp-a0_7z"
      },
      "source": [
        "fib = [1,2,3,5,8,13,21,34,55,84]"
      ],
      "execution_count": 40,
      "outputs": []
    },
    {
      "cell_type": "code",
      "metadata": {
        "id": "BQFNz7q91Osr",
        "colab": {
          "base_uri": "https://localhost:8080/"
        },
        "outputId": "a1eff28f-598c-4a81-99cd-e5e8de84a8b6"
      },
      "source": [
        "# Print the second entry in the list fib.\n",
        "print(fib[1])"
      ],
      "execution_count": 42,
      "outputs": [
        {
          "output_type": "stream",
          "name": "stdout",
          "text": [
            "2\n"
          ]
        }
      ]
    },
    {
      "cell_type": "code",
      "metadata": {
        "id": "Uy59uKl51RKM",
        "colab": {
          "base_uri": "https://localhost:8080/"
        },
        "outputId": "c3c63ce6-2479-441c-ecbf-373cf02fba9f"
      },
      "source": [
        "# Print the 8th entry in the list fib.\n",
        "print(fib[7])"
      ],
      "execution_count": 43,
      "outputs": [
        {
          "output_type": "stream",
          "name": "stdout",
          "text": [
            "34\n"
          ]
        }
      ]
    },
    {
      "cell_type": "code",
      "metadata": {
        "id": "7SoOIZgu1SIs",
        "colab": {
          "base_uri": "https://localhost:8080/"
        },
        "outputId": "8c1e4f70-82bc-4372-dc16-d817655374ff"
      },
      "source": [
        "# How many entries are there in the fib list?\n",
        "print(len(fib))"
      ],
      "execution_count": 44,
      "outputs": [
        {
          "output_type": "stream",
          "name": "stdout",
          "text": [
            "10\n"
          ]
        }
      ]
    },
    {
      "cell_type": "code",
      "metadata": {
        "id": "Hj-9YGFb1THE",
        "colab": {
          "base_uri": "https://localhost:8080/"
        },
        "outputId": "7f6909fd-fbc4-45a3-f70c-d95e80d6868c"
      },
      "source": [
        "# How would you reference (using the proper index) the number 13 in the fib list?\n",
        "print(fib[5])"
      ],
      "execution_count": 45,
      "outputs": [
        {
          "output_type": "stream",
          "name": "stdout",
          "text": [
            "13\n"
          ]
        }
      ]
    },
    {
      "cell_type": "code",
      "metadata": {
        "id": "JcVRV3K51UZM"
      },
      "source": [
        "words = ['Once upon a ','midnight dreary ','while I pondered ','weak and weary']"
      ],
      "execution_count": 46,
      "outputs": []
    },
    {
      "cell_type": "code",
      "metadata": {
        "id": "JdPoBM6o1V31",
        "colab": {
          "base_uri": "https://localhost:8080/"
        },
        "outputId": "87bb3449-8f3d-43ac-80f6-98f757a14b25"
      },
      "source": [
        "# How many entries are there in the words list?\n",
        "print(len(words))"
      ],
      "execution_count": 47,
      "outputs": [
        {
          "output_type": "stream",
          "name": "stdout",
          "text": [
            "4\n"
          ]
        }
      ]
    },
    {
      "cell_type": "code",
      "metadata": {
        "id": "Enh1au3T1W5t",
        "colab": {
          "base_uri": "https://localhost:8080/"
        },
        "outputId": "6155e502-b05c-41dc-bf20-e47d33838d43"
      },
      "source": [
        "# Print the 3rd entry in the words list?\n",
        "print(words[3])"
      ],
      "execution_count": 49,
      "outputs": [
        {
          "output_type": "stream",
          "name": "stdout",
          "text": [
            "weak and weary\n"
          ]
        }
      ]
    },
    {
      "cell_type": "code",
      "metadata": {
        "id": "M52P5_901Xme",
        "colab": {
          "base_uri": "https://localhost:8080/"
        },
        "outputId": "bd049309-3883-4830-8802-8dab47ab42e2"
      },
      "source": [
        "# How many characters are there in the 3rd entry in the words list?\n",
        "print(len(words[3]))"
      ],
      "execution_count": 51,
      "outputs": [
        {
          "output_type": "stream",
          "name": "stdout",
          "text": [
            "14\n"
          ]
        }
      ]
    },
    {
      "cell_type": "code",
      "metadata": {
        "id": "1G_Au1KQ1YVV",
        "colab": {
          "base_uri": "https://localhost:8080/"
        },
        "outputId": "47c48a8f-52c6-4a54-ecef-eca5200255cc"
      },
      "source": [
        "# Make an empty list and use the append function to add to it the following numbers.\n",
        "# 16\n",
        "# 25\n",
        "# 121\n",
        "# 169\n",
        "# 225\n",
        "mylist=[]\n",
        "mylist.append(16)\n",
        "mylist.append(25)\n",
        "mylist.append(121)\n",
        "mylist.append(169)\n",
        "mylist.append(225)\n",
        "print(mylist)"
      ],
      "execution_count": 54,
      "outputs": [
        {
          "output_type": "stream",
          "name": "stdout",
          "text": [
            "[16, 25, 121, 169, 225]\n"
          ]
        }
      ]
    },
    {
      "cell_type": "code",
      "metadata": {
        "id": "F7JHfM771Z_-",
        "colab": {
          "base_uri": "https://localhost:8080/"
        },
        "outputId": "e233e9ef-51c2-40b7-b85f-48743377e88c"
      },
      "source": [
        "# Make a list of two lists. Add to the first ``sub\" list the following words\n",
        "# 'One'\n",
        "# 'Two'\n",
        "# 'Three'\n",
        "#  and add to the second list\n",
        "# 1\n",
        "# 2\n",
        "# 3\n",
        "my_list1=['one','two','three']\n",
        "my_list2=[1,2,3]\n",
        "my_list=my_list1 + my_list2\n",
        "print(my_list)"
      ],
      "execution_count": 55,
      "outputs": [
        {
          "output_type": "stream",
          "name": "stdout",
          "text": [
            "['one', 'two', 'three', 1, 2, 3]\n"
          ]
        }
      ]
    },
    {
      "cell_type": "code",
      "metadata": {
        "id": "zEZju2mq1bbe",
        "colab": {
          "base_uri": "https://localhost:8080/"
        },
        "outputId": "e1d70a76-1b41-4540-c2a2-68c0cd43d3fa"
      },
      "source": [
        "# Print out the entry with 'Two'\n",
        "print(my_list[1])"
      ],
      "execution_count": 57,
      "outputs": [
        {
          "output_type": "stream",
          "name": "stdout",
          "text": [
            "two\n"
          ]
        }
      ]
    },
    {
      "cell_type": "code",
      "metadata": {
        "id": "e5Y2hZw01cjN",
        "colab": {
          "base_uri": "https://localhost:8080/"
        },
        "outputId": "0ef63b5d-5b85-43df-c685-aa596a508316"
      },
      "source": [
        "# Print out the entry with 3\n",
        "print(my_list[5])"
      ],
      "execution_count": 58,
      "outputs": [
        {
          "output_type": "stream",
          "name": "stdout",
          "text": [
            "3\n"
          ]
        }
      ]
    },
    {
      "cell_type": "markdown",
      "metadata": {
        "id": "lkngXj8V1ffm"
      },
      "source": [
        "# Loops\n",
        "\n",
        "These exercises will allow you to test your understanding of loops in Python.\n",
        "\n",
        "(2 points each)"
      ]
    },
    {
      "cell_type": "code",
      "metadata": {
        "id": "GGiYk-9s1dUN",
        "colab": {
          "base_uri": "https://localhost:8080/"
        },
        "outputId": "604cabe4-07ae-47d2-8d38-11968ffd9963"
      },
      "source": [
        "# Use a while loop to print out the even numbers from 0-10 (inclusive)\n",
        "i=0\n",
        "while i<=10:\n",
        "  #This gives the even numbers from 0-10\n",
        "  print(i)\n",
        "  i+=2"
      ],
      "execution_count": 60,
      "outputs": [
        {
          "output_type": "stream",
          "name": "stdout",
          "text": [
            "0\n",
            "2\n",
            "4\n",
            "6\n",
            "8\n",
            "10\n"
          ]
        }
      ]
    },
    {
      "cell_type": "code",
      "metadata": {
        "id": "kp_qKAgB1jK3",
        "colab": {
          "base_uri": "https://localhost:8080/"
        },
        "outputId": "bf8b9b3e-f3c3-4f1d-e5fc-2f27b07a941b"
      },
      "source": [
        "# Use a for loop with the range function to print out the even numbers from 0-10 (inclusive)\n",
        "for i in range (0,11,2):\n",
        "  #This gives the even numbers from 0-10\n",
        "  print(i)\n"
      ],
      "execution_count": 62,
      "outputs": [
        {
          "output_type": "stream",
          "name": "stdout",
          "text": [
            "0\n",
            "2\n",
            "4\n",
            "6\n",
            "8\n",
            "10\n"
          ]
        }
      ]
    },
    {
      "cell_type": "code",
      "metadata": {
        "id": "x5JOczHi1j-t",
        "colab": {
          "base_uri": "https://localhost:8080/"
        },
        "outputId": "35d18bc9-82a7-46c7-c9fe-47b1c1697534"
      },
      "source": [
        "# Use a for loop to add up the multiples of 3 that are less than 100.\n",
        "total=0\n",
        "for i in range (0,100):\n",
        "# this will print the added multiples of 3 that are less than 100\n",
        " if i % 3==0:\n",
        "    total +=i\n",
        "print(total)"
      ],
      "execution_count": 68,
      "outputs": [
        {
          "output_type": "stream",
          "name": "stdout",
          "text": [
            "1683\n"
          ]
        }
      ]
    },
    {
      "cell_type": "code",
      "metadata": {
        "id": "Gj025a-D1k3u",
        "colab": {
          "base_uri": "https://localhost:8080/"
        },
        "outputId": "35834e0d-826c-4aa8-8fd9-58b723e4ecea"
      },
      "source": [
        "# Use a while loop to add up the multiples of 3 (starting at 0), while the total is less than 100.\n",
        "total1=0\n",
        "i=0\n",
        "while i<=100:\n",
        "  if i %3==0:\n",
        "    total1 += 1\n",
        "  i+=1\n",
        "print(total1)\n"
      ],
      "execution_count": 107,
      "outputs": [
        {
          "output_type": "stream",
          "name": "stdout",
          "text": [
            "34\n"
          ]
        }
      ]
    },
    {
      "cell_type": "code",
      "metadata": {
        "id": "TO_DbqrOQwiW",
        "colab": {
          "base_uri": "https://localhost:8080/"
        },
        "outputId": "a64e5c8e-8bfb-4233-e043-65139d159b8f"
      },
      "source": [
        "fib = [1,2,3,5,8,13,21,34,55,84]\n",
        "length=len(fib)\n",
        "# Loop over this list and print out the entries 2 ways:\n",
        "# * Just iterating over each entry in the list\n",
        "# * Using \"range\" and referencing the entries by index\n",
        "for i in fib:\n",
        "  #Itterates over each entry in the list\n",
        "  print(i)\n",
        "\n",
        "for b in range(length):\n",
        "  #Uses range to refference each index\n",
        "  print(fib[b])"
      ],
      "execution_count": 82,
      "outputs": [
        {
          "output_type": "stream",
          "name": "stdout",
          "text": [
            "1\n",
            "2\n",
            "3\n",
            "5\n",
            "8\n",
            "13\n",
            "21\n",
            "34\n",
            "55\n",
            "84\n",
            "1\n",
            "2\n",
            "3\n",
            "5\n",
            "8\n",
            "13\n",
            "21\n",
            "34\n",
            "55\n",
            "84\n"
          ]
        }
      ]
    },
    {
      "cell_type": "code",
      "metadata": {
        "id": "TZEkZjBL1l3t",
        "colab": {
          "base_uri": "https://localhost:8080/"
        },
        "outputId": "b3ce2da8-2111-4eea-e725-90588a89d51e"
      },
      "source": [
        "# Put all the entries in the following list into a single string and print that string, using a for loop.\n",
        "words = ['Once upon a ','midnight dreary ','while I pondered ','weak and weary']\n",
        "mystring=''\n",
        "for p in words:\n",
        "  mystring+=''+p\n",
        "print(mystring)"
      ],
      "execution_count": 83,
      "outputs": [
        {
          "output_type": "stream",
          "name": "stdout",
          "text": [
            "Once upon a midnight dreary while I pondered weak and weary\n"
          ]
        }
      ]
    },
    {
      "cell_type": "code",
      "metadata": {
        "id": "EP8hHaBz1nN2",
        "colab": {
          "base_uri": "https://localhost:8080/"
        },
        "outputId": "d854a9ff-7c82-4367-b4a7-8cbaf2e54a38"
      },
      "source": [
        "# Fill a list with the first 1000 multiples of 13 (starting with 13). Verify your work by checking the length of the\n",
        "# list.\n",
        "num=[I*13 for I in range(1,1001)]\n",
        "print(num)\n",
        "print(len(num))\n",
        "\n"
      ],
      "execution_count": 89,
      "outputs": [
        {
          "output_type": "stream",
          "name": "stdout",
          "text": [
            "[13, 26, 39, 52, 65, 78, 91, 104, 117, 130, 143, 156, 169, 182, 195, 208, 221, 234, 247, 260, 273, 286, 299, 312, 325, 338, 351, 364, 377, 390, 403, 416, 429, 442, 455, 468, 481, 494, 507, 520, 533, 546, 559, 572, 585, 598, 611, 624, 637, 650, 663, 676, 689, 702, 715, 728, 741, 754, 767, 780, 793, 806, 819, 832, 845, 858, 871, 884, 897, 910, 923, 936, 949, 962, 975, 988, 1001, 1014, 1027, 1040, 1053, 1066, 1079, 1092, 1105, 1118, 1131, 1144, 1157, 1170, 1183, 1196, 1209, 1222, 1235, 1248, 1261, 1274, 1287, 1300, 1313, 1326, 1339, 1352, 1365, 1378, 1391, 1404, 1417, 1430, 1443, 1456, 1469, 1482, 1495, 1508, 1521, 1534, 1547, 1560, 1573, 1586, 1599, 1612, 1625, 1638, 1651, 1664, 1677, 1690, 1703, 1716, 1729, 1742, 1755, 1768, 1781, 1794, 1807, 1820, 1833, 1846, 1859, 1872, 1885, 1898, 1911, 1924, 1937, 1950, 1963, 1976, 1989, 2002, 2015, 2028, 2041, 2054, 2067, 2080, 2093, 2106, 2119, 2132, 2145, 2158, 2171, 2184, 2197, 2210, 2223, 2236, 2249, 2262, 2275, 2288, 2301, 2314, 2327, 2340, 2353, 2366, 2379, 2392, 2405, 2418, 2431, 2444, 2457, 2470, 2483, 2496, 2509, 2522, 2535, 2548, 2561, 2574, 2587, 2600, 2613, 2626, 2639, 2652, 2665, 2678, 2691, 2704, 2717, 2730, 2743, 2756, 2769, 2782, 2795, 2808, 2821, 2834, 2847, 2860, 2873, 2886, 2899, 2912, 2925, 2938, 2951, 2964, 2977, 2990, 3003, 3016, 3029, 3042, 3055, 3068, 3081, 3094, 3107, 3120, 3133, 3146, 3159, 3172, 3185, 3198, 3211, 3224, 3237, 3250, 3263, 3276, 3289, 3302, 3315, 3328, 3341, 3354, 3367, 3380, 3393, 3406, 3419, 3432, 3445, 3458, 3471, 3484, 3497, 3510, 3523, 3536, 3549, 3562, 3575, 3588, 3601, 3614, 3627, 3640, 3653, 3666, 3679, 3692, 3705, 3718, 3731, 3744, 3757, 3770, 3783, 3796, 3809, 3822, 3835, 3848, 3861, 3874, 3887, 3900, 3913, 3926, 3939, 3952, 3965, 3978, 3991, 4004, 4017, 4030, 4043, 4056, 4069, 4082, 4095, 4108, 4121, 4134, 4147, 4160, 4173, 4186, 4199, 4212, 4225, 4238, 4251, 4264, 4277, 4290, 4303, 4316, 4329, 4342, 4355, 4368, 4381, 4394, 4407, 4420, 4433, 4446, 4459, 4472, 4485, 4498, 4511, 4524, 4537, 4550, 4563, 4576, 4589, 4602, 4615, 4628, 4641, 4654, 4667, 4680, 4693, 4706, 4719, 4732, 4745, 4758, 4771, 4784, 4797, 4810, 4823, 4836, 4849, 4862, 4875, 4888, 4901, 4914, 4927, 4940, 4953, 4966, 4979, 4992, 5005, 5018, 5031, 5044, 5057, 5070, 5083, 5096, 5109, 5122, 5135, 5148, 5161, 5174, 5187, 5200, 5213, 5226, 5239, 5252, 5265, 5278, 5291, 5304, 5317, 5330, 5343, 5356, 5369, 5382, 5395, 5408, 5421, 5434, 5447, 5460, 5473, 5486, 5499, 5512, 5525, 5538, 5551, 5564, 5577, 5590, 5603, 5616, 5629, 5642, 5655, 5668, 5681, 5694, 5707, 5720, 5733, 5746, 5759, 5772, 5785, 5798, 5811, 5824, 5837, 5850, 5863, 5876, 5889, 5902, 5915, 5928, 5941, 5954, 5967, 5980, 5993, 6006, 6019, 6032, 6045, 6058, 6071, 6084, 6097, 6110, 6123, 6136, 6149, 6162, 6175, 6188, 6201, 6214, 6227, 6240, 6253, 6266, 6279, 6292, 6305, 6318, 6331, 6344, 6357, 6370, 6383, 6396, 6409, 6422, 6435, 6448, 6461, 6474, 6487, 6500, 6513, 6526, 6539, 6552, 6565, 6578, 6591, 6604, 6617, 6630, 6643, 6656, 6669, 6682, 6695, 6708, 6721, 6734, 6747, 6760, 6773, 6786, 6799, 6812, 6825, 6838, 6851, 6864, 6877, 6890, 6903, 6916, 6929, 6942, 6955, 6968, 6981, 6994, 7007, 7020, 7033, 7046, 7059, 7072, 7085, 7098, 7111, 7124, 7137, 7150, 7163, 7176, 7189, 7202, 7215, 7228, 7241, 7254, 7267, 7280, 7293, 7306, 7319, 7332, 7345, 7358, 7371, 7384, 7397, 7410, 7423, 7436, 7449, 7462, 7475, 7488, 7501, 7514, 7527, 7540, 7553, 7566, 7579, 7592, 7605, 7618, 7631, 7644, 7657, 7670, 7683, 7696, 7709, 7722, 7735, 7748, 7761, 7774, 7787, 7800, 7813, 7826, 7839, 7852, 7865, 7878, 7891, 7904, 7917, 7930, 7943, 7956, 7969, 7982, 7995, 8008, 8021, 8034, 8047, 8060, 8073, 8086, 8099, 8112, 8125, 8138, 8151, 8164, 8177, 8190, 8203, 8216, 8229, 8242, 8255, 8268, 8281, 8294, 8307, 8320, 8333, 8346, 8359, 8372, 8385, 8398, 8411, 8424, 8437, 8450, 8463, 8476, 8489, 8502, 8515, 8528, 8541, 8554, 8567, 8580, 8593, 8606, 8619, 8632, 8645, 8658, 8671, 8684, 8697, 8710, 8723, 8736, 8749, 8762, 8775, 8788, 8801, 8814, 8827, 8840, 8853, 8866, 8879, 8892, 8905, 8918, 8931, 8944, 8957, 8970, 8983, 8996, 9009, 9022, 9035, 9048, 9061, 9074, 9087, 9100, 9113, 9126, 9139, 9152, 9165, 9178, 9191, 9204, 9217, 9230, 9243, 9256, 9269, 9282, 9295, 9308, 9321, 9334, 9347, 9360, 9373, 9386, 9399, 9412, 9425, 9438, 9451, 9464, 9477, 9490, 9503, 9516, 9529, 9542, 9555, 9568, 9581, 9594, 9607, 9620, 9633, 9646, 9659, 9672, 9685, 9698, 9711, 9724, 9737, 9750, 9763, 9776, 9789, 9802, 9815, 9828, 9841, 9854, 9867, 9880, 9893, 9906, 9919, 9932, 9945, 9958, 9971, 9984, 9997, 10010, 10023, 10036, 10049, 10062, 10075, 10088, 10101, 10114, 10127, 10140, 10153, 10166, 10179, 10192, 10205, 10218, 10231, 10244, 10257, 10270, 10283, 10296, 10309, 10322, 10335, 10348, 10361, 10374, 10387, 10400, 10413, 10426, 10439, 10452, 10465, 10478, 10491, 10504, 10517, 10530, 10543, 10556, 10569, 10582, 10595, 10608, 10621, 10634, 10647, 10660, 10673, 10686, 10699, 10712, 10725, 10738, 10751, 10764, 10777, 10790, 10803, 10816, 10829, 10842, 10855, 10868, 10881, 10894, 10907, 10920, 10933, 10946, 10959, 10972, 10985, 10998, 11011, 11024, 11037, 11050, 11063, 11076, 11089, 11102, 11115, 11128, 11141, 11154, 11167, 11180, 11193, 11206, 11219, 11232, 11245, 11258, 11271, 11284, 11297, 11310, 11323, 11336, 11349, 11362, 11375, 11388, 11401, 11414, 11427, 11440, 11453, 11466, 11479, 11492, 11505, 11518, 11531, 11544, 11557, 11570, 11583, 11596, 11609, 11622, 11635, 11648, 11661, 11674, 11687, 11700, 11713, 11726, 11739, 11752, 11765, 11778, 11791, 11804, 11817, 11830, 11843, 11856, 11869, 11882, 11895, 11908, 11921, 11934, 11947, 11960, 11973, 11986, 11999, 12012, 12025, 12038, 12051, 12064, 12077, 12090, 12103, 12116, 12129, 12142, 12155, 12168, 12181, 12194, 12207, 12220, 12233, 12246, 12259, 12272, 12285, 12298, 12311, 12324, 12337, 12350, 12363, 12376, 12389, 12402, 12415, 12428, 12441, 12454, 12467, 12480, 12493, 12506, 12519, 12532, 12545, 12558, 12571, 12584, 12597, 12610, 12623, 12636, 12649, 12662, 12675, 12688, 12701, 12714, 12727, 12740, 12753, 12766, 12779, 12792, 12805, 12818, 12831, 12844, 12857, 12870, 12883, 12896, 12909, 12922, 12935, 12948, 12961, 12974, 12987, 13000]\n",
            "1000\n"
          ]
        }
      ]
    },
    {
      "cell_type": "markdown",
      "metadata": {
        "id": "i-AnL1XWnHpt"
      },
      "source": [
        "# Conditionals\n",
        "\n",
        "These exercises will allow you to test your understanding of conditional statments in Python.\n",
        "\n",
        "(2 points each)"
      ]
    },
    {
      "cell_type": "code",
      "metadata": {
        "id": "4D-yJ8nnyKeg",
        "colab": {
          "base_uri": "https://localhost:8080/"
        },
        "outputId": "dd19f6fa-7e5a-4b83-deef-8870c3495e8e"
      },
      "source": [
        "# Test to see what is larger (without printing the answers to the\n",
        "# multiplication to the screen)\n",
        "#\n",
        "# 25*32\n",
        "# or\n",
        "# 17*49\n",
        "#\n",
        "# Print which product is larger to the screen.\n",
        "\n",
        "prod1=25*32\n",
        "prod2=17*49\n",
        "if prod1> prod2:\n",
        "  print(\"The product of 25*32 is larger!\")\n",
        "elif prod1<prod2:\n",
        "  print(\"The product of 17*49 is larger!\")\n",
        "elif prod1==prod2:\n",
        "  print(\"The two products are equal\")"
      ],
      "execution_count": 90,
      "outputs": [
        {
          "output_type": "stream",
          "name": "stdout",
          "text": [
            "The product of 17*49 is larger!\n"
          ]
        }
      ]
    },
    {
      "cell_type": "code",
      "metadata": {
        "id": "-m9-3H_eyZeX",
        "colab": {
          "base_uri": "https://localhost:8080/"
        },
        "outputId": "2c0588b5-e05f-44f9-9113-ffb692e58a6d"
      },
      "source": [
        "# Test whether or not 18/2 is the same as 36/4\n",
        "frac1=18/2\n",
        "frac2=36/4\n",
        "if frac1> frac2:\n",
        "  print(\"The fraction 18/2 is larger!\")\n",
        "elif frac1<frac2:\n",
        "  print(\"The fraction 36/4 is larger!\")\n",
        "elif frac1==frac2:\n",
        "  print(\"The two fractions are equal\")"
      ],
      "execution_count": 92,
      "outputs": [
        {
          "output_type": "stream",
          "name": "stdout",
          "text": [
            "The two fractions are equal\n"
          ]
        }
      ]
    },
    {
      "cell_type": "code",
      "metadata": {
        "id": "wfyraanJyalj",
        "colab": {
          "base_uri": "https://localhost:8080/"
        },
        "outputId": "ed95f235-cdd4-4515-bdd7-0171652010ca"
      },
      "source": [
        "# Test whether or not 18/2 is the same as 36.0/4.0\n",
        "frac1=18/2\n",
        "frac2=36.0/4.0\n",
        "if frac1> frac2:\n",
        "  print(\"The fraction 18/2 is larger!\")\n",
        "elif frac1<frac2:\n",
        "  print(\"The fraction 36.0/4.0 is larger!\")\n",
        "elif frac1==frac2:\n",
        "  print(\"The two fractions are equal\")\n"
      ],
      "execution_count": 98,
      "outputs": [
        {
          "output_type": "stream",
          "name": "stdout",
          "text": [
            "The two fractions are equal\n"
          ]
        }
      ]
    },
    {
      "cell_type": "code",
      "metadata": {
        "id": "aUJ3IR5qybeu",
        "colab": {
          "base_uri": "https://localhost:8080/"
        },
        "outputId": "9d24e604-70b0-4ad5-af8a-781cbf0c88bc"
      },
      "source": [
        "# Test whether or not 1/2 is the same as 1.0/2.0\n",
        "frac1=1/2\n",
        "frac2=1.0/2.0\n",
        "if frac1> frac2:\n",
        "  print(\"The fraction 1/2 is larger!\")\n",
        "elif frac1<frac2:\n",
        "  print(\"The fraction 1.0/2.0 is larger!\")\n",
        "elif frac1==frac2:\n",
        "  print(\"The two fractions are equal\")"
      ],
      "execution_count": 99,
      "outputs": [
        {
          "output_type": "stream",
          "name": "stdout",
          "text": [
            "The two fractions are equal\n"
          ]
        }
      ]
    },
    {
      "cell_type": "code",
      "metadata": {
        "id": "S9aKmmQ8yc4Q",
        "colab": {
          "base_uri": "https://localhost:8080/"
        },
        "outputId": "57fbd8d7-9c3d-4e7c-9c00-de275f20a398"
      },
      "source": [
        "# Are these two strings equal? If not write some code to figure out what is different.\n",
        "x = \"00000000000000000000000000000000000000000000000000\"\n",
        "y = \"00000000000000000000000000000000000000000000O00000\"\n",
        "difference=[]\n",
        "for i in range(min(len(x),len(y))):\n",
        "  if x[i] !=y[i]:\n",
        "    difference.append((i,x[i],y[i]))\n",
        "\n",
        "if difference:\n",
        "  print(\"Difference found:\")\n",
        "  for diff in difference:\n",
        "    ind, charac1, charac2 = diff\n",
        "    print(f\"At index, {ind}, {charac1} in x and {charac2} in y\")\n",
        "else:\n",
        "  print(\"There is no difference\")"
      ],
      "execution_count": 100,
      "outputs": [
        {
          "output_type": "stream",
          "name": "stdout",
          "text": [
            "Difference found:\n",
            "At index, 44, 0 in x and O in y\n"
          ]
        }
      ]
    },
    {
      "cell_type": "markdown",
      "metadata": {
        "id": "zXiidCtvnwCq"
      },
      "source": [
        "# Functions\n",
        "\n",
        "Write a function called ```feet2miles``` that takes in 1 argument, ```feet``` and returns the equivalent number of miles. Set the default value of feet to be 100.\n",
        "\n",
        "For reference, there are 5280 feet in a mile.\n",
        "\n",
        "(5 points)"
      ]
    },
    {
      "cell_type": "code",
      "metadata": {
        "id": "Db55VxfCnw3B",
        "colab": {
          "base_uri": "https://localhost:8080/"
        },
        "outputId": "62ff4d80-7f19-4ef6-a3bf-50f619e5263b"
      },
      "source": [
        "# Your code here\n",
        "\n",
        "def feet2miles(feet=100):\n",
        "  miles=feet/5280\n",
        "  return miles\n",
        "\n",
        "\n",
        "# This part is for testing the above.\n",
        "\n",
        "m = feet2miles(5280)\n",
        "print(m) # Should be 1\n",
        "\n",
        "m = feet2miles(1)\n",
        "print(m)\n",
        "\n",
        "m = feet2miles(1000)\n",
        "print(m)"
      ],
      "execution_count": 102,
      "outputs": [
        {
          "output_type": "stream",
          "name": "stdout",
          "text": [
            "1.0\n",
            "0.0001893939393939394\n",
            "0.1893939393939394\n"
          ]
        }
      ]
    },
    {
      "cell_type": "code",
      "source": [
        "# Make an array of values in feet, ranging from 1000 to 20000, in steps of 1000\n",
        "# using the np.arange function\n",
        "import numpy as np\n",
        "\n",
        "myfeet=np.arange(100,21000,1000)\n",
        "print(myfeet)\n",
        "\n",
        "# Use your feet2miles function to create a second array,\n",
        "# which is the equivalent of myfeet but is instead mymiles\n",
        "# this should be only one line of code!\n",
        "mymiles=feet2miles(myfeet)\n",
        "print(mymiles)\n"
      ],
      "metadata": {
        "id": "eXKYot3Tprt4",
        "colab": {
          "base_uri": "https://localhost:8080/"
        },
        "outputId": "e1b0bf0b-759b-4f46-a781-bba46777129a"
      },
      "execution_count": 104,
      "outputs": [
        {
          "output_type": "stream",
          "name": "stdout",
          "text": [
            "[  100  1100  2100  3100  4100  5100  6100  7100  8100  9100 10100 11100\n",
            " 12100 13100 14100 15100 16100 17100 18100 19100 20100]\n",
            "[0.01893939 0.20833333 0.39772727 0.58712121 0.77651515 0.96590909\n",
            " 1.15530303 1.34469697 1.53409091 1.72348485 1.91287879 2.10227273\n",
            " 2.29166667 2.48106061 2.67045455 2.85984848 3.04924242 3.23863636\n",
            " 3.4280303  3.61742424 3.80681818]\n"
          ]
        }
      ]
    },
    {
      "cell_type": "markdown",
      "metadata": {
        "id": "ZfpbRMrF0gc1"
      },
      "source": [
        "# Plotting"
      ]
    },
    {
      "cell_type": "markdown",
      "metadata": {
        "id": "LWKVeMFsHR1R"
      },
      "source": [
        "## Kinematics\n",
        "\n",
        "(5 points)\n",
        "\n",
        "Suppose you are standing on a cliff 50 meters high. You throw a ball almost straight up with a velocity of 15 m/s. It misses the edge of the cliff on the way down so it will continue all the way to the ground below.\n",
        "\n",
        "Neglecting air resistance, solve for the height, velocity, and acceleration of the ball as a function of time.  Write your solution on a whiteboard and check your results with your instructor.\n",
        "\n",
        "Once you have your solution approved, write the functions that you determined here.  Be sure to use the latex/markup features to display the equations in a nice format.   (2 points)\n",
        "\n",
        "**YOUR EQUATIONS GO HERE**\n",
        "\n",
        "$h(t)=h_o+v_0t-\\frac{1}{2}gt^2$ (height as a function of time)\n",
        "\n",
        "$v(t)=v_0-gt$ (velocity as a function of time)\n",
        "\n",
        "$a(t)=-g$ (acceleration due to gravity)\n",
        "\n",
        "Then make some plots of the (6 points)\n",
        "\n",
        "* Acceleration vs. time\n",
        "* Velocity vs. time\n",
        "* Position vs. time\n",
        "\n",
        "Make these plots for the time period when it is thrown in the air until it lands on the ground below."
      ]
    },
    {
      "cell_type": "markdown",
      "source": [],
      "metadata": {
        "id": "E8opYB2GN4Qi"
      }
    },
    {
      "cell_type": "code",
      "source": [
        "import matplotlib.pyplot as plt\n",
        "import numpy as np"
      ],
      "metadata": {
        "id": "h0iUzT1tPBik"
      },
      "execution_count": 114,
      "outputs": []
    },
    {
      "cell_type": "code",
      "metadata": {
        "id": "5lOCmSa8oLL3",
        "colab": {
          "base_uri": "https://localhost:8080/",
          "height": 540
        },
        "outputId": "839fbbab-3790-4aef-9fe2-f7c810254568"
      },
      "source": [
        "# Your code here\n",
        "h0=50\n",
        "v0=15\n",
        "g=9.8\n",
        "t=np.linspace(0,5,100)\n",
        "\n",
        "def h(t):\n",
        "  return h0 + v0*t - .5*g*(t**2)\n",
        "def v(t):\n",
        "  return v0-g*t\n",
        "def a(t):\n",
        "  return -g*np.ones(len(t))\n",
        "\n",
        "plt.subplot(3,1,1)\n",
        "plt.plot(t,a(t))\n",
        "#plt.title('Acceleration vs. Time')\n",
        "plt.xlabel('Time (Seconds)')\n",
        "plt.ylabel('Acceleration (m/s^2)')\n",
        "plt.legend()\n",
        "\n",
        "plt.subplot(3,1,2)\n",
        "plt.plot(t,v(t))\n",
        "#plt.title('Velocity vs. Time')\n",
        "plt.xlabel(\"Time (Seconds)\")\n",
        "plt.ylabel('Velocity (m/s)')\n",
        "plt.legend()\n",
        "\n",
        "plt.subplot(3,1,3)\n",
        "plt.plot(t,h(t))\n",
        "#plt.title('Height vs. Time')\n",
        "plt.xlabel('Time (Seconds)')\n",
        "plt.ylabel('Velocity (m/s)')\n",
        "plt.legend()"
      ],
      "execution_count": 127,
      "outputs": [
        {
          "output_type": "stream",
          "name": "stderr",
          "text": [
            "WARNING:matplotlib.legend:No artists with labels found to put in legend.  Note that artists whose label start with an underscore are ignored when legend() is called with no argument.\n",
            "WARNING:matplotlib.legend:No artists with labels found to put in legend.  Note that artists whose label start with an underscore are ignored when legend() is called with no argument.\n",
            "WARNING:matplotlib.legend:No artists with labels found to put in legend.  Note that artists whose label start with an underscore are ignored when legend() is called with no argument.\n"
          ]
        },
        {
          "output_type": "execute_result",
          "data": {
            "text/plain": [
              "<matplotlib.legend.Legend at 0x7adbf65184f0>"
            ]
          },
          "metadata": {},
          "execution_count": 127
        },
        {
          "output_type": "display_data",
          "data": {
            "text/plain": [
              "<Figure size 640x480 with 3 Axes>"
            ],
            "image/png": "[encoded data removed]"
          },
          "metadata": {}
        }
      ]
    },
    {
      "cell_type": "markdown",
      "source": [
        "## Make a plot of $sin(\\theta)$ and $cos(\\theta)$\n",
        "\n",
        "(5 points)\n",
        "\n",
        "* make a plot of $sin(\\theta)$ and $cos(\\theta)$ as a function of theta, $\\theta$.\n",
        "* theta should be in radians, with theta ranging from $0 \\le \\theta \\le 2\\pi$. (Hint: use np.linspace to create the theta array, with 100 elements.)\n",
        "* make a plot with 1 column and two rows, and plot sin in the top row and cosine in the bottom row.  You can use plt.subplot to make multi-panel plots.\n",
        "\n",
        "```\n",
        "plt.subplot(2,1,1)\n",
        "```\n",
        "* NOTE: for this exercise, you should use the trig functions from numpy, e.g. np.sin and np.cos.\n",
        "\n",
        "(4 points)"
      ],
      "metadata": {
        "id": "j2mlCHh4oMhx"
      }
    },
    {
      "cell_type": "code",
      "source": [
        "# Your code here\n",
        "import matplotlib.pyplot as plt\n",
        "\n",
        "theta = np.linspace(0,2*pi,100)\n",
        "y=np.sin(theta)\n",
        "x=np.cos(theta)\n",
        "plt.subplot(2,1,1)\n",
        "plt.plot(theta,y, label='Sin(theta)')\n",
        "plt.title(\"Sin(theta)\")\n",
        "plt.xlabel('Theta (radians)')\n",
        "plt.ylabel('Sin(theta)')\n",
        "plt.legend()\n",
        "\n",
        "plt.subplot(2,1,2)\n",
        "plt.plot(theta,x,label='Cos(theta)')\n",
        "plt.title('Cos(theta)')\n",
        "plt.xlabel(\"Theta (radians)\")\n",
        "plt.ylabel('Cos(theta)')\n",
        "plt.legend()\n",
        "\n",
        "plt.tight_layout()\n",
        "plt.show()"
      ],
      "metadata": {
        "id": "FA-1b2RGo9Dz",
        "colab": {
          "base_uri": "https://localhost:8080/",
          "height": 486
        },
        "outputId": "5da2ced7-7f36-4910-efcf-26f2e97025be"
      },
      "execution_count": 113,
      "outputs": [
        {
          "output_type": "display_data",
          "data": {
            "text/plain": [
              "<Figure size 640x480 with 2 Axes>"
            ],
            "image/png": "[encoded data removed]"
          },
          "metadata": {}
        }
      ]
    },
    {
      "cell_type": "code",
      "source": [],
      "metadata": {
        "id": "KGAiFVMKLRFU"
      },
      "execution_count": null,
      "outputs": []
    }
  ]
}