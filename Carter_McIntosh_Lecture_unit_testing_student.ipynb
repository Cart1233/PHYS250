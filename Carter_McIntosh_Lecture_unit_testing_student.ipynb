{
  "nbformat": 4,
  "nbformat_minor": 0,
  "metadata": {
    "colab": {
      "provenance": [],
      "include_colab_link": true
    },
    "kernelspec": {
      "name": "python3",
      "display_name": "Python 3"
    },
    "language_info": {
      "name": "python"
    }
  },
  "cells": [
    {
      "cell_type": "markdown",
      "metadata": {
        "id": "view-in-github",
        "colab_type": "text"
      },
      "source": [
        "<a href=\"https://colab.research.google.com/github/Cart1233/PHYS250/blob/main/Carter_McIntosh_Lecture_unit_testing_student.ipynb\" target=\"_parent\"><img src=\"https://colab.research.google.com/assets/colab-badge.svg\" alt=\"Open In Colab\"/></a>"
      ]
    },
    {
      "cell_type": "markdown",
      "source": [
        "# Testing\n",
        "\n",
        "* When writing functions and programs, we should be sure to test the output.\n",
        "* You can compare the output to what is expected using assert."
      ],
      "metadata": {
        "id": "oFhxG5FhwaT9"
      }
    },
    {
      "cell_type": "code",
      "execution_count": 8,
      "metadata": {
        "id": "duhXt5_ZHLuh"
      },
      "outputs": [],
      "source": [
        "\n",
        "# define a function that multiplies by 2 and subtracts one\n",
        "\n",
        "def myfunc(x):\n",
        "  \"\"\"multiply by 2 subtract by 1\"\"\"\n",
        "  y=2*x-1\n",
        "  return y\n"
      ]
    },
    {
      "cell_type": "code",
      "source": [
        "# use assert to test the output when the input is equal to x\n",
        "assert myfunc(0)==-1"
      ],
      "metadata": {
        "id": "rnke5hHwqNe5"
      },
      "execution_count": 9,
      "outputs": []
    },
    {
      "cell_type": "markdown",
      "source": [
        "# Using `try` and `except`\n",
        "\n",
        "* We can make this a little more sophisticated using the try/except commands.\n",
        "* This will allow us to give information back to the user without causing the testing cell to crash.\n",
        "* We could also tailor the feedback based on what the function returns.\n"
      ],
      "metadata": {
        "id": "DQ1gyLLQyNaD"
      }
    },
    {
      "cell_type": "code",
      "source": [
        "# demo : use try and except to make the code more robust\n",
        "\n",
        "# if the function returns the correct value, congratulate the user\n",
        "\n",
        "# if the function returns a wrong value, print error message to user\n",
        "try:\n",
        "  assert myfunc(0)==-1\n",
        "except AssertionError:\n",
        "  print(\"The function returned the worng value.\")\n"
      ],
      "metadata": {
        "id": "C5EGegacrM0C"
      },
      "execution_count": 10,
      "outputs": []
    },
    {
      "cell_type": "markdown",
      "source": [
        "# Your turn\n",
        "\n",
        "follow the instructions below to create a function and test it."
      ],
      "metadata": {
        "id": "OK1Oo-n2yY0O"
      }
    },
    {
      "cell_type": "code",
      "source": [
        "# make a function that squares the input\n",
        "\n",
        "def myfunc1(x):\n",
        "  \"\"\"This function takes in x then uses equation y to square x\"\"\"\n",
        "  y=x**2\n",
        "  return y\n",
        "\n"
      ],
      "metadata": {
        "id": "wWFUF590riet"
      },
      "execution_count": 12,
      "outputs": []
    },
    {
      "cell_type": "code",
      "source": [
        "# test with a positive number\n",
        "assert myfunc1(4)==16\n",
        "# test with a negative number\n",
        "assert myfunc1(-2)==4\n",
        "# test with zero\n",
        "assert myfunc1(0)==0"
      ],
      "metadata": {
        "id": "5Eb332XWm2sn"
      },
      "execution_count": 16,
      "outputs": []
    },
    {
      "cell_type": "markdown",
      "source": [
        "# Create your own example\n",
        "\n",
        "* Create your own function\n",
        "* develop a test code to check the output of the function"
      ],
      "metadata": {
        "id": "f5hjrr1sm0d6"
      }
    },
    {
      "cell_type": "code",
      "source": [
        "def myfunc2(x):\n",
        "  y=x**3+x-4\n",
        "  return y"
      ],
      "metadata": {
        "id": "Clx0DuTKDfdj"
      },
      "execution_count": 17,
      "outputs": []
    },
    {
      "cell_type": "code",
      "source": [
        "assert myfunc2(2)==6"
      ],
      "metadata": {
        "id": "YcHeLhm5DxLN"
      },
      "execution_count": 19,
      "outputs": []
    },
    {
      "cell_type": "code",
      "source": [],
      "metadata": {
        "id": "35sscteyD3vK"
      },
      "execution_count": null,
      "outputs": []
    }
  ]
}